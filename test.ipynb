{
  "nbformat": 4,
  "nbformat_minor": 0,
  "metadata": {
    "colab": {
      "provenance": []
    },
    "kernelspec": {
      "name": "python3",
      "display_name": "Python 3"
    },
    "language_info": {
      "name": "python"
    }
  },
  "cells": [
    {
      "cell_type": "code",
      "execution_count": null,
      "metadata": {
        "id": "7gEfE8kiD0rQ"
      },
      "outputs": [],
      "source": [
        "import pixellib\n",
        "\n",
        "from pixellib.instance import instance_segmentation\n",
        "\n",
        "segment_image=instance_segmentation\n",
        "\n",
        "segment_image.load_model(\"\")\n",
        "segment_image.segmentImage(\"input_image_name\",\n",
        "                               show_bboxes=False,output_image_name=\"output_image_name\")\n",
        "\n",
        "''' ### Replace  the name of input_image_name with the image to be segmented and repace name of output_image_name with desired output image name\n",
        "    ### Upoad the weights file in segment_image.load_model\n",
        "'''"
      ]
    }
  ]
}